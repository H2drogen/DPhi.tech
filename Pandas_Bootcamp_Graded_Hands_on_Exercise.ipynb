{
  "nbformat": 4,
  "nbformat_minor": 0,
  "metadata": {
    "colab": {
      "name": "Pandas Bootcamp Graded Hands-on Exercise.ipynb",
      "provenance": []
    },
    "kernelspec": {
      "name": "python3",
      "display_name": "Python 3"
    },
    "language_info": {
      "name": "python"
    }
  },
  "cells": [
    {
      "cell_type": "markdown",
      "metadata": {
        "id": "Gvll069tUh4v"
      },
      "source": [
        "##Overview\n",
        "\n",
        "Dear Learner, \n",
        "\n",
        "Congratulations, you have studied Pandas all the way through the end of this bootcamp!!! This is the final graded hands-on exercise where you will be accomplishing the below mentioned task.\n",
        "\n",
        "For the tasks, we'll be using the COVID-19 Data Repository by the Center for Systems Science and Engineering (CSSE) at Johns Hopkins University. You can find the orginal dataset here: https://github.com/CSSEGISandData/COVID-19\n",
        "\n",
        "\n",
        "**Dataset Link**: https://raw.githubusercontent.com/dphi-official/Datasets/master/covid_19_data.csv\n",
        "\n",
        "**Resources**: You may consider referring to this resource while solving this project: https://www.learndatasci.com/tutorials/python-pandas-tutorial-complete-introduction-for-beginners/\n",
        "\n"
      ]
    },
    {
      "cell_type": "markdown",
      "metadata": {
        "id": "dvPOOlTFeejl"
      },
      "source": [
        "**Information about the dataset:**\n",
        "\n",
        "There are 8 features:\n",
        "\n",
        "* SNo: Serial number\n",
        "* ObservationDate: Date of observation of the cases (format: MM/DD/YYYY)\n",
        "* Province/State: Province or State of the country where cases were observed\n",
        "* Country/Region: Country where cases were observed\n",
        "* Last Update: Time in UTC at which the row is updated for the given province or country. (It is not in a standard format)\n",
        "* Confirmed: Cumulative number of confirmed cases till the date\n",
        "* Deaths: Cumulative number of deaths till the date\n",
        "* Recovered: Cumulative number of recovered cases till date"
      ]
    },
    {
      "cell_type": "markdown",
      "metadata": {
        "id": "A_JNx02DemVy"
      },
      "source": [
        "**Instruction for the learner:** \n",
        "* Recommended to revise 'groupby()' method of pandas\n",
        "* Recommended to understand the word **'Cummulative'** properly for three features - 'Confirmed', 'Recovered' and 'Deaths'.\n",
        "* Please note that the dtype of datetime columns are of object, convert them to datetime as shown below:"
      ]
    },
    {
      "cell_type": "markdown",
      "metadata": {
        "id": "GejbyYGQUrpN"
      },
      "source": [
        "###**Task 1**\n",
        "\n",
        "* Read the dataset and name is as `df`\n",
        "* Print first 10 observations of the dataset\n",
        "* Check for the data types of the all the variables in the dataset\n",
        "* Convert columns ['ObservationDate'] and ['Last Update'] to from object to datatime data type.\n"
      ]
    },
    {
      "cell_type": "code",
      "metadata": {
        "colab": {
          "base_uri": "https://localhost:8080/"
        },
        "id": "v3OdUXA0nhk4",
        "outputId": "2b5cc0c7-340a-4185-892b-615d11e21be7"
      },
      "source": [
        "import pandas as pd\n",
        "df = pd.read_csv(\"https://raw.githubusercontent.com/dphi-official/Datasets/master/covid_19_data.csv\")\n",
        "print(df.head(10))\n",
        "df.info()\n",
        "df['ObservationDate']=pd.to_datetime(df['ObservationDate'])\n",
        "df['Last Update']=pd.to_datetime(df['Last Update'])\n",
        "df.info()"
      ],
      "execution_count": 17,
      "outputs": [
        {
          "output_type": "stream",
          "name": "stdout",
          "text": [
            "   SNo ObservationDate Province/State  ... Confirmed Deaths  Recovered\n",
            "0    1      01/22/2020          Anhui  ...       1.0    0.0        0.0\n",
            "1    2      01/22/2020        Beijing  ...      14.0    0.0        0.0\n",
            "2    3      01/22/2020      Chongqing  ...       6.0    0.0        0.0\n",
            "3    4      01/22/2020         Fujian  ...       1.0    0.0        0.0\n",
            "4    5      01/22/2020          Gansu  ...       0.0    0.0        0.0\n",
            "5    6      01/22/2020      Guangdong  ...      26.0    0.0        0.0\n",
            "6    7      01/22/2020        Guangxi  ...       2.0    0.0        0.0\n",
            "7    8      01/22/2020        Guizhou  ...       1.0    0.0        0.0\n",
            "8    9      01/22/2020         Hainan  ...       4.0    0.0        0.0\n",
            "9   10      01/22/2020          Hebei  ...       1.0    0.0        0.0\n",
            "\n",
            "[10 rows x 8 columns]\n",
            "<class 'pandas.core.frame.DataFrame'>\n",
            "RangeIndex: 40805 entries, 0 to 40804\n",
            "Data columns (total 8 columns):\n",
            " #   Column           Non-Null Count  Dtype  \n",
            "---  ------           --------------  -----  \n",
            " 0   SNo              40805 non-null  int64  \n",
            " 1   ObservationDate  40805 non-null  object \n",
            " 2   Province/State   22790 non-null  object \n",
            " 3   Country/Region   40805 non-null  object \n",
            " 4   Last Update      40805 non-null  object \n",
            " 5   Confirmed        40805 non-null  float64\n",
            " 6   Deaths           40805 non-null  float64\n",
            " 7   Recovered        40805 non-null  float64\n",
            "dtypes: float64(3), int64(1), object(4)\n",
            "memory usage: 2.5+ MB\n",
            "<class 'pandas.core.frame.DataFrame'>\n",
            "RangeIndex: 40805 entries, 0 to 40804\n",
            "Data columns (total 8 columns):\n",
            " #   Column           Non-Null Count  Dtype         \n",
            "---  ------           --------------  -----         \n",
            " 0   SNo              40805 non-null  int64         \n",
            " 1   ObservationDate  40805 non-null  datetime64[ns]\n",
            " 2   Province/State   22790 non-null  object        \n",
            " 3   Country/Region   40805 non-null  object        \n",
            " 4   Last Update      40805 non-null  datetime64[ns]\n",
            " 5   Confirmed        40805 non-null  float64       \n",
            " 6   Deaths           40805 non-null  float64       \n",
            " 7   Recovered        40805 non-null  float64       \n",
            "dtypes: datetime64[ns](2), float64(3), int64(1), object(2)\n",
            "memory usage: 2.5+ MB\n"
          ]
        }
      ]
    },
    {
      "cell_type": "markdown",
      "metadata": {
        "id": "9JfuOyUAWA6e"
      },
      "source": [
        "### **Task 2**\n",
        "* Create a subset of the data `df`, only taking observations which was **last updated** on **2020-06-13 03:33:14** and name this dataframe as **updated_data**. \n",
        "* Print the total no. of observations and unique country records in **updated_data**\n"
      ]
    },
    {
      "cell_type": "code",
      "metadata": {
        "id": "CeYan5WGz-oI",
        "outputId": "37f3f753-d90f-4316-8240-0fa8d1d1c0f3",
        "colab": {
          "base_uri": "https://localhost:8080/"
        }
      },
      "source": [
        "import datetime\n",
        "updated_data=df[df['Last Update']==datetime.datetime(2020, 6, 13,3,33,14)]\n",
        "print(len(updated_data))\n",
        "print(updated_data['Country/Region'].nunique())"
      ],
      "execution_count": 26,
      "outputs": [
        {
          "output_type": "stream",
          "name": "stdout",
          "text": [
            "729\n",
            "190\n"
          ]
        }
      ]
    },
    {
      "cell_type": "markdown",
      "metadata": {
        "id": "Sdcu_ll4WRCz"
      },
      "source": [
        "### **Task 3**\n",
        "* Create a subset of data from the dataframe **updated_data**, only taking the top 10 countries which have the maximum number of confirmed cases with features - **'Country/Region', 'Confirmed', 'Deaths' and 'Recovered'**. Name this dataframe as 'top_10'\n",
        "\n",
        "* print the name of the countries in 'top_10' dataset\n",
        "* Which country has the lowest number of confirmed cases among the ten countries in top_10 dataframe?\n",
        "Hint: use groupby() to group all the observations with same country, sum all the observations and then sort the dataframe by confirmed cases."
      ]
    },
    {
      "cell_type": "code",
      "metadata": {
        "id": "1BtXb5C33gpu",
        "outputId": "00b3b961-e93b-40f4-de8f-8dadb1c5a12e",
        "colab": {
          "base_uri": "https://localhost:8080/"
        }
      },
      "source": [
        "top_10 = updated_data[['Country/Region', 'Confirmed', 'Deaths', 'Recovered']]\n",
        "top_10= top_10.nlargest(10,'Confirmed')\n",
        "print(top_10['Country/Region'].to_string(index=False))\n",
        "lowest=top_10.groupby('Country/Region').sum().sort_values(by='Confirmed')\n",
        "print(lowest.head(1).index.values)"
      ],
      "execution_count": 59,
      "outputs": [
        {
          "output_type": "stream",
          "name": "stdout",
          "text": [
            "     US\n",
            " Russia\n",
            " France\n",
            "   Iran\n",
            " Turkey\n",
            " Brazil\n",
            "     US\n",
            "     UK\n",
            "     US\n",
            "     US\n",
            "['UK']\n"
          ]
        }
      ]
    },
    {
      "cell_type": "markdown",
      "metadata": {
        "id": "nhfzHXPFWd-s"
      },
      "source": [
        "### **Task 4**\n",
        "* Add two columns in 'top_10' dataframe - 'Recovered_percentage' and 'Deaths_percentage' \n",
        "\n",
        "where\n",
        "\n",
        "'Recovered_percentage' = (Recovered cases / Confirmed cases) * 100\n",
        "\n",
        "'Death_percentage' = (Deaths cases / Confirmed cases) * 100\n",
        "\n",
        "* Print the top 3 countries with highest recovery precent"
      ]
    },
    {
      "cell_type": "code",
      "metadata": {
        "id": "XmWgyllgERvc",
        "outputId": "5c3724e4-b92d-48a9-d984-5c29b35ed7fe",
        "colab": {
          "base_uri": "https://localhost:8080/"
        }
      },
      "source": [
        "top_10['Recovered_percentage']=top_10['Recovered']/top_10['Confirmed']*100\n",
        "top_10['Death_percentage']=top_10['Deaths']/top_10['Confirmed']*100\n",
        "top3=top_10.nlargest(3,'Recovered_percentage')\n",
        "\n",
        "print(top3['Country/Region'].to_string(index=False))"
      ],
      "execution_count": 69,
      "outputs": [
        {
          "output_type": "stream",
          "name": "stdout",
          "text": [
            " Turkey\n",
            "   Iran\n",
            " Russia\n"
          ]
        }
      ]
    },
    {
      "cell_type": "markdown",
      "metadata": {
        "id": "M59pRLv58MoO"
      },
      "source": [
        "##**Scores**\n",
        "\n",
        "Each of the tasks is of 5 mark each and the scores will be given accordingly after the notebook review."
      ]
    }
  ]
}